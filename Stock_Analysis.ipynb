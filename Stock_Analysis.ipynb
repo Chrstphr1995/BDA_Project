{
  "nbformat": 4,
  "nbformat_minor": 0,
  "metadata": {
    "colab": {
      "name": "Stock_Analysis.ipynb",
      "provenance": [],
      "mount_file_id": "1a_KetRm-971cmWE2Tro_0mhaaE4VZX1r",
      "authorship_tag": "ABX9TyNZ4MeDzyIJJDascKlykJNg",
      "include_colab_link": true
    },
    "kernelspec": {
      "name": "python3",
      "display_name": "Python 3"
    }
  },
  "cells": [
    {
      "cell_type": "markdown",
      "metadata": {
        "id": "view-in-github",
        "colab_type": "text"
      },
      "source": [
        "<a href=\"https://colab.research.google.com/github/Chrstphr1995/BDA_Project/blob/main/Stock_Analysis.ipynb\" target=\"_parent\"><img src=\"https://colab.research.google.com/assets/colab-badge.svg\" alt=\"Open In Colab\"/></a>"
      ]
    },
    {
      "cell_type": "markdown",
      "metadata": {
        "id": "JxmM_BknplQs"
      },
      "source": [
        "# Stock"
      ]
    },
    {
      "cell_type": "markdown",
      "metadata": {
        "id": "o8ij2aCwpoae"
      },
      "source": [
        "Stock Price [Link](https://www.youtube.com/watch?v=2BrpKpWwT2A)"
      ]
    },
    {
      "cell_type": "code",
      "metadata": {
        "id": "bIdTlc78pj_d"
      },
      "source": [
        "import datetime as dt\n",
        "from datetime import datetime\n",
        "import matplotlib.pyplot as plt\n",
        "from matplotlib import style\n",
        "import pandas as pd\n",
        "import pandas_datareader.data as web"
      ],
      "execution_count": 1,
      "outputs": []
    },
    {
      "cell_type": "code",
      "metadata": {
        "id": "zPBcHQ0eqCGg"
      },
      "source": [
        "style.use('ggplot')"
      ],
      "execution_count": 2,
      "outputs": []
    },
    {
      "cell_type": "code",
      "metadata": {
        "id": "wt_J-hPRqXqc"
      },
      "source": [
        "start = dt.datetime(2020,1,1)\n",
        "end = str(datetime.now().strftime('%Y-%m-%d'))\n",
        "#end = dt.datetime(now())"
      ],
      "execution_count": 3,
      "outputs": []
    },
    {
      "cell_type": "code",
      "metadata": {
        "colab": {
          "base_uri": "https://localhost:8080/"
        },
        "id": "xAnveTQKqnFV",
        "outputId": "d2c3079f-2696-4671-b4bb-a016f62040d4"
      },
      "source": [
        "full = web.DataReader('SAP', 'yahoo', start, end)\n",
        "print(full.head())"
      ],
      "execution_count": 33,
      "outputs": [
        {
          "output_type": "stream",
          "text": [
            "                  High         Low  ...     Volume   Adj Close\n",
            "Date                                ...                       \n",
            "2020-01-02  137.139999  135.399994  ...  2967500.0  134.863037\n",
            "2020-01-03  134.919998  133.300003  ...   507800.0  132.073318\n",
            "2020-01-06  134.220001  133.130005  ...   442900.0  132.290192\n",
            "2020-01-07  134.350006  133.440002  ...   621200.0  131.718445\n",
            "2020-01-08  135.520004  133.759995  ...   513300.0  133.157669\n",
            "\n",
            "[5 rows x 6 columns]\n"
          ],
          "name": "stdout"
        }
      ]
    },
    {
      "cell_type": "code",
      "metadata": {
        "id": "SiyRLzlXw_Uf"
      },
      "source": [
        "#df = pd.DataFrame(full)\n",
        "#df.to_excel('Stock.xlsx')"
      ],
      "execution_count": 5,
      "outputs": []
    },
    {
      "cell_type": "code",
      "metadata": {
        "id": "lbdX6dKtvigy"
      },
      "source": [
        "#df = pd.DataFrame(RSI)\n",
        "#df.to_excel('Stock.xlsx')"
      ],
      "execution_count": 6,
      "outputs": []
    },
    {
      "cell_type": "code",
      "metadata": {
        "id": "kt4ZFLxjrVCP"
      },
      "source": [
        "Stock = full['Close']\n",
        "#print(Stock)"
      ],
      "execution_count": 34,
      "outputs": []
    },
    {
      "cell_type": "markdown",
      "metadata": {
        "id": "lQjc0-4b0bRH"
      },
      "source": [
        "\n",
        "\n",
        "---\n",
        "\n"
      ]
    },
    {
      "cell_type": "markdown",
      "metadata": {
        "id": "MlwLmtP90WFs"
      },
      "source": [
        "SMA_20 & SMA_100"
      ]
    },
    {
      "cell_type": "code",
      "metadata": {
        "id": "xV9myrMEsljV"
      },
      "source": [
        "SMA_20 = Stock.rolling(window=20).mean()\n",
        "#print(SMA_20)"
      ],
      "execution_count": 35,
      "outputs": []
    },
    {
      "cell_type": "code",
      "metadata": {
        "id": "wxyh3e80tGez"
      },
      "source": [
        "SMA_100 = Stock.rolling(window=100).mean()\n",
        "#print(SMA_100)"
      ],
      "execution_count": 36,
      "outputs": []
    },
    {
      "cell_type": "code",
      "metadata": {
        "id": "aHxw1OJItYlb"
      },
      "source": [
        "#df7 = pd.concat([Stock, SMA_20, SMA_100], axis=1)\n",
        "#print(df7)"
      ],
      "execution_count": 10,
      "outputs": []
    },
    {
      "cell_type": "code",
      "metadata": {
        "id": "8_n5hJ5LvLsI"
      },
      "source": [
        "#plt.subplots(figsize=(22,8))\n",
        "#plt.plot(Stock, label='Stock', color='black')\n",
        "#plt.plot(SMA_20, label='20 day rolling mean', color='red')\n",
        "#plt.plot(SMA_100, label='100 day rolling mean', color='orange')\n",
        "#plt.xlabel('Date', size=14)\n",
        "#plt.ylabel('Close Price', size=14)\n",
        "#plt.legend()\n",
        "#plt.title('Stock Price', size=20)\n",
        "#plt.show()"
      ],
      "execution_count": null,
      "outputs": []
    },
    {
      "cell_type": "markdown",
      "metadata": {
        "id": "o0kInNYn0fmd"
      },
      "source": [
        "\n",
        "\n",
        "---\n",
        "\n"
      ]
    },
    {
      "cell_type": "markdown",
      "metadata": {
        "id": "-MklFAZf0g-_"
      },
      "source": [
        "[RSI](https://tcoil.info/compute-rsi-for-stocks-with-python-relative-strength-index/)"
      ]
    },
    {
      "cell_type": "code",
      "metadata": {
        "id": "hyy1sMhOviSG"
      },
      "source": [
        "def computeRSI (data, time_window):\n",
        "    diff = data.diff(1).dropna()\n",
        "\n",
        "    up_chg = 0 * diff\n",
        "    down_chg = 0 * diff\n",
        "    \n",
        "    up_chg[diff > 0] = diff[ diff>0 ]\n",
        "    \n",
        "    down_chg[diff < 0] = diff[ diff < 0 ]\n",
        "    \n",
        "    up_chg_avg   = up_chg.ewm(com=time_window-1 , min_periods=time_window).mean()\n",
        "    down_chg_avg = down_chg.ewm(com=time_window-1 , min_periods=time_window).mean()\n",
        "    \n",
        "    rs = abs(up_chg_avg/down_chg_avg)\n",
        "    rsi = 100 - 100/(1+rs)\n",
        "    return rsi"
      ],
      "execution_count": 37,
      "outputs": []
    },
    {
      "cell_type": "code",
      "metadata": {
        "id": "LDJQShZ-yPj3"
      },
      "source": [
        "RSI = computeRSI(full['Adj Close'], 14)"
      ],
      "execution_count": 38,
      "outputs": []
    },
    {
      "cell_type": "code",
      "metadata": {
        "id": "dTfqWAzkz9PM"
      },
      "source": [
        "#RSI = df['RSI']"
      ],
      "execution_count": null,
      "outputs": []
    },
    {
      "cell_type": "code",
      "metadata": {
        "id": "4gp9LHvZvia0"
      },
      "source": [
        "#print(RSI)"
      ],
      "execution_count": null,
      "outputs": []
    },
    {
      "cell_type": "code",
      "metadata": {
        "colab": {
          "base_uri": "https://localhost:8080/",
          "height": 283
        },
        "id": "LUfiIB7nsX_0",
        "outputId": "6bf111a5-efc2-4976-ed65-8dfa56d6de98"
      },
      "source": [
        "#plt.subplots(figsize=(22,4))\n",
        "#plt.plot(RSI, label='Apple', color='black')\n",
        "#plt.xlabel('Date', size=14)\n",
        "#plt.ylabel('Close Price', size=14)\n",
        "#plt.axhline(30, linestyle='--', color='black', alpha=0.3)\n",
        "#plt.axhline(70, linestyle='--', color='black', alpha=0.3)\n",
        "#plt.title('Apple Stock', size=20)\n",
        "#plt.show()"
      ],
      "execution_count": 17,
      "outputs": [
        {
          "output_type": "display_data",
          "data": {
            "image/png": "[encoded data removed]",
            "text/plain": [
              "<Figure size 1584x288 with 1 Axes>"
            ]
          },
          "metadata": {
            "tags": []
          }
        }
      ]
    },
    {
      "cell_type": "markdown",
      "metadata": {
        "id": "UnnmphZME0UQ"
      },
      "source": [
        "\n",
        "\n",
        "---\n",
        "\n"
      ]
    },
    {
      "cell_type": "markdown",
      "metadata": {
        "id": "hnCnZ0hbE1nY"
      },
      "source": [
        "# Dashbaord"
      ]
    },
    {
      "cell_type": "code",
      "metadata": {
        "id": "FMX9PSbIZ21U"
      },
      "source": [
        "pip install mpld3"
      ],
      "execution_count": null,
      "outputs": []
    },
    {
      "cell_type": "code",
      "metadata": {
        "id": "cxYfxwZvZ786"
      },
      "source": [
        "import matplotlib.pyplot as plt, mpld3"
      ],
      "execution_count": 47,
      "outputs": []
    },
    {
      "cell_type": "code",
      "metadata": {
        "id": "DecGUu6w50xX"
      },
      "source": [
        "plt.subplots(figsize=(22,8))\n",
        "plt.plot(Stock, label='Stock', color='white')\n",
        "plt.plot(SMA_20, label='20 day rolling mean', color='red')\n",
        "plt.plot(SMA_100, label='100 day rolling mean', color='orange')\n",
        "#plt.xlabel('Date', size=14)\n",
        "plt.ylabel('Close Price [Dollar]', size=14)\n",
        "plt.legend()\n",
        "plt.title('Stock Price [Dollar]', size=20)\n",
        "plt.show()\n",
        "\n",
        "plt.subplots(figsize=(22,4))\n",
        "plt.plot(RSI, label='Stock', color='white')\n",
        "plt.xlabel('Date', size=14)\n",
        "plt.ylabel('RSI', size=14)\n",
        "plt.axhline(30, linestyle='--', color='green', alpha=0.3)\n",
        "plt.axhline(70, linestyle='--', color='red', alpha=0.3)\n",
        "#plt.title('Apple Stock', size=20)\n",
        "plt.show()\n",
        "mpld3.show()"
      ],
      "execution_count": null,
      "outputs": []
    },
    {
      "cell_type": "markdown",
      "metadata": {
        "id": "_HceUFqq5dXS"
      },
      "source": [
        "#Backlog"
      ]
    },
    {
      "cell_type": "markdown",
      "metadata": {
        "id": "enZymwtahmPZ"
      },
      "source": [
        "Requirements"
      ]
    },
    {
      "cell_type": "code",
      "metadata": {
        "id": "2UbkVB_fzBnn"
      },
      "source": [
        "pip install pandas-datareader"
      ],
      "execution_count": null,
      "outputs": []
    },
    {
      "cell_type": "code",
      "metadata": {
        "id": "be9GYOsP7eDs"
      },
      "source": [
        "pip install matplotlib"
      ],
      "execution_count": null,
      "outputs": []
    },
    {
      "cell_type": "code",
      "metadata": {
        "id": "QtSL8elc7jhW"
      },
      "source": [
        "pip install pandas"
      ],
      "execution_count": null,
      "outputs": []
    },
    {
      "cell_type": "code",
      "metadata": {
        "id": "aSPUGh3U7lvo"
      },
      "source": [
        "pip install numpy"
      ],
      "execution_count": null,
      "outputs": []
    },
    {
      "cell_type": "code",
      "metadata": {
        "id": "Vf8QKmjz710E"
      },
      "source": [
        "pip install datetime"
      ],
      "execution_count": null,
      "outputs": []
    },
    {
      "cell_type": "code",
      "metadata": {
        "id": "_FrlJD9H8NkM"
      },
      "source": [
        "from pandas_datareader import data\n",
        "from pandas_datareader._utils import RemoteDataError\n",
        "import matplotlib.pyplot as plt\n",
        "import pandas as pd\n",
        "import numpy as np\n",
        "from datetime import datetime\n",
        "import plotly as py\n",
        "import plotly.graph_objs as go"
      ],
      "execution_count": null,
      "outputs": []
    },
    {
      "cell_type": "markdown",
      "metadata": {
        "id": "70Opu3H2ofdq"
      },
      "source": [
        "\n",
        "\n",
        "---\n",
        "\n"
      ]
    },
    {
      "cell_type": "markdown",
      "metadata": {
        "id": "i7Pg82cOhsoI"
      },
      "source": [
        "Close vs. SMA 20 & SMA 200"
      ]
    },
    {
      "cell_type": "code",
      "metadata": {
        "id": "A-jMB41L9Na4"
      },
      "source": [
        "#Year-Month-Day\n",
        "START_DATE = '2019-01-01'"
      ],
      "execution_count": null,
      "outputs": []
    },
    {
      "cell_type": "code",
      "metadata": {
        "id": "oCG66CWM9XZ4"
      },
      "source": [
        "END_DATE = str(datetime.now().strftime('%Y-%m-%d'))"
      ],
      "execution_count": null,
      "outputs": []
    },
    {
      "cell_type": "code",
      "metadata": {
        "id": "RE0OF-rSHlLv"
      },
      "source": [
        "#UK_Stock = 'UU.L'"
      ],
      "execution_count": null,
      "outputs": []
    },
    {
      "cell_type": "code",
      "metadata": {
        "id": "_goc-tBrHnTR"
      },
      "source": [
        "USA_Stock = 'AAPL'"
      ],
      "execution_count": null,
      "outputs": []
    },
    {
      "cell_type": "code",
      "metadata": {
        "id": "YMkLjosdNLzz"
      },
      "source": [
        "def get_stats(stock_data):\n",
        "  return {\n",
        "          'last': np.mean(stock_data.tail(1)),\n",
        "          'short_mean': np.mean(stock_data.tail(20)),\n",
        "          'long_mean': np.mean(stock_data.tail(200)),\n",
        "          'short_rolling': stock_data.rolling(window=20).mean(),\n",
        "          'long_rolling': stock_data.rolling(window=200).mean()\n",
        "  }"
      ],
      "execution_count": null,
      "outputs": []
    },
    {
      "cell_type": "code",
      "metadata": {
        "id": "Op08-XQpMmJ_"
      },
      "source": [
        "def clean_data(stock_data, col):\n",
        "  weekdays = pd.date_range(start=START_DATE, end=END_DATE)\n",
        "  clean_data = stock_data[col].reindex(weekdays)\n",
        "  return clean_data.fillna(method='ffill')"
      ],
      "execution_count": null,
      "outputs": []
    },
    {
      "cell_type": "code",
      "metadata": {
        "id": "OW41Fi0mSt0y"
      },
      "source": [
        "def create_plot(stock_data, ticker):\n",
        "  stats = get_stats(stock_data)\n",
        "  plt.subplots(figsize=(22,8))\n",
        "  plt.plot(stock_data, label=ticker)\n",
        "  plt.plot(stats['short_rolling'], label='20 day rolling mean')\n",
        "  plt.plot(stats['long_rolling'], label='200 day rolling mean')\n",
        "  plt.xlabel('Date')\n",
        "  plt.ylabel('Close Price')\n",
        "  plt.legend()\n",
        "  plt.title('Apple')\n",
        "  plt.show()"
      ],
      "execution_count": null,
      "outputs": []
    },
    {
      "cell_type": "code",
      "metadata": {
        "id": "fuYHfTbiIS5R"
      },
      "source": [
        "def get_data(ticker):\n",
        "  \n",
        "  try:\n",
        "    stock_data = data.DataReader(ticker,\n",
        "                                 'yahoo',\n",
        "                                 START_DATE,\n",
        "                                 END_DATE)\n",
        "    Close = (clean_data(stock_data, 'Close'))\n",
        "    create_plot(Close, ticker)\n",
        "\n",
        "  except RemoteDataError:\n",
        "      print('No data found for [t]'.format(t=ticker))\n",
        "\n",
        "#get_data(USA_Stock)"
      ],
      "execution_count": null,
      "outputs": []
    },
    {
      "cell_type": "markdown",
      "metadata": {
        "id": "WtI3UF2wh1V8"
      },
      "source": [
        "\n",
        "\n",
        "---\n",
        "\n"
      ]
    },
    {
      "cell_type": "markdown",
      "metadata": {
        "id": "xqA8qLOZhjS9"
      },
      "source": [
        "Volume"
      ]
    },
    {
      "cell_type": "code",
      "metadata": {
        "id": "7rYdrucBhitG"
      },
      "source": [
        "START_DATE = '2019-01-01'"
      ],
      "execution_count": null,
      "outputs": []
    },
    {
      "cell_type": "code",
      "metadata": {
        "id": "2yMZuy8nh-RG"
      },
      "source": [
        "END_DATE = str(datetime.now().strftime('%Y-%m-%d'))"
      ],
      "execution_count": null,
      "outputs": []
    },
    {
      "cell_type": "code",
      "metadata": {
        "id": "27tuaO5Uh-TW"
      },
      "source": [
        "USA_Stock = 'AAPL'"
      ],
      "execution_count": null,
      "outputs": []
    },
    {
      "cell_type": "code",
      "metadata": {
        "id": "pffrvOHlh-V0"
      },
      "source": [
        "def clean_data(stock_data, col):\n",
        "  weekdays = pd.date_range(start=START_DATE, end=END_DATE)\n",
        "  clean_data = stock_data[col].reindex(weekdays)\n",
        "  return clean_data.fillna(method='ffill')"
      ],
      "execution_count": null,
      "outputs": []
    },
    {
      "cell_type": "code",
      "metadata": {
        "id": "0uZ0O4F3iUZL"
      },
      "source": [
        "def create_plot(stock_data, ticker):\n",
        "  stats = get_stats(stock_data)\n",
        "  plt.subplots(figsize=(22,2))\n",
        "  plt.plot(stock_data, label=ticker)\n",
        "  plt.xlabel('Date')\n",
        "  plt.ylabel('Volume')\n",
        "  plt.legend()\n",
        "  plt.title('Apple Volume')\n",
        "  plt.show()"
      ],
      "execution_count": null,
      "outputs": []
    },
    {
      "cell_type": "code",
      "metadata": {
        "id": "bMWi0Wcph-Yn"
      },
      "source": [
        "def get_volume(ticker):\n",
        "  \n",
        "  try:\n",
        "    stock_data = data.DataReader(ticker,\n",
        "                                 'yahoo',\n",
        "                                 START_DATE,\n",
        "                                 END_DATE)\n",
        "    Volume = (clean_data(stock_data, 'Volume'))\n",
        "    create_plot(Volume, ticker)\n",
        "\n",
        "  except RemoteDataError:\n",
        "      print('No data found for [t]'.format(t=ticker))\n",
        "\n",
        "  get_data(USA_Stock)"
      ],
      "execution_count": null,
      "outputs": []
    },
    {
      "cell_type": "markdown",
      "metadata": {
        "id": "VYHBFSpnhhRp"
      },
      "source": [
        "\n",
        "\n",
        "---\n",
        "\n"
      ]
    },
    {
      "cell_type": "markdown",
      "metadata": {
        "id": "52E-cwbQi_XS"
      },
      "source": [
        "Alpha Vantage Try"
      ]
    },
    {
      "cell_type": "markdown",
      "metadata": {
        "id": "UqtGwG61jEb_"
      },
      "source": [
        "Preparations"
      ]
    },
    {
      "cell_type": "code",
      "metadata": {
        "id": "mEmpBfyPIgoP"
      },
      "source": [
        "pip install alpha_vantage"
      ],
      "execution_count": null,
      "outputs": []
    },
    {
      "cell_type": "code",
      "metadata": {
        "id": "oo_k4P1qM9Us"
      },
      "source": [
        "import pandas as pd\n",
        "from alpha_vantage.timeseries import TimeSeries\n",
        "from alpha_vantage.techindicators import TechIndicators\n",
        "from alpha_vantage.fundamentaldata import FundamentalData\n",
        "import time\n",
        "from datetime import datetime"
      ],
      "execution_count": null,
      "outputs": []
    },
    {
      "cell_type": "code",
      "metadata": {
        "id": "S9UecV5LjZUD"
      },
      "source": [
        "import pandas as pd\n",
        "import numpy as np\n",
        "import plotly as py\n",
        "import plotly.graph_objs as go"
      ],
      "execution_count": null,
      "outputs": []
    },
    {
      "cell_type": "code",
      "metadata": {
        "id": "F6ro2gZ4JqyV"
      },
      "source": [
        "api_key = \"NMO1Y2U90QAJBJ2V\""
      ],
      "execution_count": null,
      "outputs": []
    },
    {
      "cell_type": "markdown",
      "metadata": {
        "id": "P3p9u0xwjIVx"
      },
      "source": [
        "\n",
        "\n",
        "---\n",
        "\n"
      ]
    },
    {
      "cell_type": "markdown",
      "metadata": {
        "id": "BOfS6Ob-jJjP"
      },
      "source": [
        "Fundamental Data"
      ]
    },
    {
      "cell_type": "code",
      "metadata": {
        "id": "Fl-OUpTVOVV8"
      },
      "source": [
        "ta = FundamentalData(key=api_key, output_format='pandas')\n",
        "data_ta, meta_data_ta = ta.get_company_overview(symbol='AAPL')"
      ],
      "execution_count": null,
      "outputs": []
    },
    {
      "cell_type": "code",
      "metadata": {
        "id": "xG0Hjv9dJ7SN"
      },
      "source": [
        "print(data_ta)"
      ],
      "execution_count": null,
      "outputs": []
    },
    {
      "cell_type": "code",
      "metadata": {
        "id": "wjFuP1JCTK5M"
      },
      "source": [
        "dfSAP = data_ta['AnalystTargetPrice']\n",
        "print(dfSAP)"
      ],
      "execution_count": null,
      "outputs": []
    },
    {
      "cell_type": "code",
      "metadata": {
        "id": "ihGom1BbcWPb"
      },
      "source": [
        "df = pd.DataFrame(dfSAP)\n",
        "df.to_excel('Analystenschätzung.xlsx')"
      ],
      "execution_count": null,
      "outputs": []
    },
    {
      "cell_type": "markdown",
      "metadata": {
        "id": "025X1b9hjNmt"
      },
      "source": [
        "\n",
        "\n",
        "---\n",
        "\n"
      ]
    },
    {
      "cell_type": "markdown",
      "metadata": {
        "id": "FuBWvlqsjO8Z"
      },
      "source": [
        "Try with Apple\n",
        "\n",
        "https://towardsdatascience.com/moving-averages-in-python-16170e20f6c"
      ]
    },
    {
      "cell_type": "code",
      "metadata": {
        "id": "xIGqWbhljaaR"
      },
      "source": [
        "ta = TimeSeries(key=api_key, output_format='pandas')\n",
        "data_ta, meta_data_ta = ta.get_daily(symbol='AAPL', outputsize='full')"
      ],
      "execution_count": null,
      "outputs": []
    },
    {
      "cell_type": "code",
      "metadata": {
        "id": "5DJWsGtETwT-"
      },
      "source": [
        "print(close[::-1])"
      ],
      "execution_count": null,
      "outputs": []
    },
    {
      "cell_type": "code",
      "metadata": {
        "id": "ObuueJRLoKVz"
      },
      "source": [
        "#df = pd.DataFrame(close[::-1])\n",
        "#df.to_csv('Apple_Price.csv')"
      ],
      "execution_count": null,
      "outputs": []
    },
    {
      "cell_type": "code",
      "metadata": {
        "id": "Fp8_8RAUPi8c"
      },
      "source": [
        "df = pd.DataFrame(close[::-1])\n",
        "df.to_excel('Apple_Price.xlsx')"
      ],
      "execution_count": null,
      "outputs": []
    }
  ]
}