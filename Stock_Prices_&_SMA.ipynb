{
  "nbformat": 4,
  "nbformat_minor": 0,
  "metadata": {
    "colab": {
      "name": "Stock_Prices & SMA",
      "provenance": [],
      "toc_visible": true,
      "authorship_tag": "ABX9TyP/brDPph5HzzTATT6wuZMK",
      "include_colab_link": true
    },
    "kernelspec": {
      "name": "python3",
      "display_name": "Python 3"
    }
  },
  "cells": [
    {
      "cell_type": "markdown",
      "metadata": {
        "id": "view-in-github",
        "colab_type": "text"
      },
      "source": [
        "<a href=\"https://colab.research.google.com/github/Chrstphr1995/BDA_Project/blob/main/Stock_Prices_%26_SMA.ipynb\" target=\"_parent\"><img src=\"https://colab.research.google.com/assets/colab-badge.svg\" alt=\"Open In Colab\"/></a>"
      ]
    },
    {
      "cell_type": "markdown",
      "metadata": {
        "id": "EWrNr6FQCvZV"
      },
      "source": [
        "# Stock Prices\n",
        "Source: https://www.youtube.com/watch?v=d2kXmWzfS0w"
      ]
    },
    {
      "cell_type": "markdown",
      "metadata": {
        "id": "RmePOQMiDP8o"
      },
      "source": [
        "# Microsoft"
      ]
    },
    {
      "cell_type": "code",
      "metadata": {
        "colab": {
          "base_uri": "https://localhost:8080/"
        },
        "id": "PPkwPP334t9r",
        "outputId": "3f1b71c5-2770-4a80-f687-ddf796f8df27"
      },
      "source": [
        "pip install alpha_vantage"
      ],
      "execution_count": null,
      "outputs": [
        {
          "output_type": "stream",
          "text": [
            "Collecting alpha_vantage\n",
            "  Downloading https://files.pythonhosted.org/packages/ba/b4/d95f9e0eccea6732bab5a079772d453a4f0b68a9f63740d9cf320f92beaa/alpha_vantage-2.3.1-py3-none-any.whl\n",
            "Requirement already satisfied: aiohttp in /usr/local/lib/python3.6/dist-packages (from alpha_vantage) (3.7.3)\n",
            "Requirement already satisfied: requests in /usr/local/lib/python3.6/dist-packages (from alpha_vantage) (2.23.0)\n",
            "Requirement already satisfied: typing-extensions>=3.6.5 in /usr/local/lib/python3.6/dist-packages (from aiohttp->alpha_vantage) (3.7.4.3)\n",
            "Requirement already satisfied: idna-ssl>=1.0; python_version < \"3.7\" in /usr/local/lib/python3.6/dist-packages (from aiohttp->alpha_vantage) (1.1.0)\n",
            "Requirement already satisfied: multidict<7.0,>=4.5 in /usr/local/lib/python3.6/dist-packages (from aiohttp->alpha_vantage) (5.1.0)\n",
            "Requirement already satisfied: async-timeout<4.0,>=3.0 in /usr/local/lib/python3.6/dist-packages (from aiohttp->alpha_vantage) (3.0.1)\n",
            "Requirement already satisfied: attrs>=17.3.0 in /usr/local/lib/python3.6/dist-packages (from aiohttp->alpha_vantage) (20.3.0)\n",
            "Requirement already satisfied: yarl<2.0,>=1.0 in /usr/local/lib/python3.6/dist-packages (from aiohttp->alpha_vantage) (1.6.3)\n",
            "Requirement already satisfied: chardet<4.0,>=2.0 in /usr/local/lib/python3.6/dist-packages (from aiohttp->alpha_vantage) (3.0.4)\n",
            "Requirement already satisfied: idna<3,>=2.5 in /usr/local/lib/python3.6/dist-packages (from requests->alpha_vantage) (2.10)\n",
            "Requirement already satisfied: certifi>=2017.4.17 in /usr/local/lib/python3.6/dist-packages (from requests->alpha_vantage) (2020.12.5)\n",
            "Requirement already satisfied: urllib3!=1.25.0,!=1.25.1,<1.26,>=1.21.1 in /usr/local/lib/python3.6/dist-packages (from requests->alpha_vantage) (1.24.3)\n",
            "Installing collected packages: alpha-vantage\n",
            "Successfully installed alpha-vantage-2.3.1\n"
          ],
          "name": "stdout"
        }
      ]
    },
    {
      "cell_type": "code",
      "metadata": {
        "id": "KHLXYeB-5ZWP"
      },
      "source": [
        "import pandas as pd\n",
        "from alpha_vantage.timeseries import TimeSeries\n",
        "import time"
      ],
      "execution_count": null,
      "outputs": []
    },
    {
      "cell_type": "code",
      "metadata": {
        "id": "7YxuuCLx5cOg"
      },
      "source": [
        "api_key = \"NMO1Y2U90QAJBJ2V\""
      ],
      "execution_count": null,
      "outputs": []
    },
    {
      "cell_type": "code",
      "metadata": {
        "colab": {
          "base_uri": "https://localhost:8080/"
        },
        "id": "-MYpCWdj5fCr",
        "outputId": "ea7b4692-c5e8-4856-abfa-660c9e87a3d6"
      },
      "source": [
        "ts = TimeSeries(key=api_key, output_format='pandas')\n",
        "data, meta_data = ts.get_daily(symbol='MSFT', outputsize = 'full')\n",
        "print(data)"
      ],
      "execution_count": null,
      "outputs": [
        {
          "output_type": "stream",
          "text": [
            "            1. open   2. high  3. low  4. close   5. volume\n",
            "date                                                       \n",
            "2020-12-29   226.31  227.1800  223.58    224.15  17403213.0\n",
            "2020-12-28   224.45  226.0300  223.02    224.96  17762701.0\n",
            "2020-12-24   221.42  223.6100  221.20    222.75  10550572.0\n",
            "2020-12-23   223.11  223.5589  220.80    221.02  18699638.0\n",
            "2020-12-22   222.69  225.6300  221.85    223.94  22643397.0\n",
            "...             ...       ...     ...       ...         ...\n",
            "1999-11-05    91.81   92.8700   90.50     91.56  35083700.0\n",
            "1999-11-04    92.31   92.7500   90.31     91.75  27119700.0\n",
            "1999-11-03    92.94   93.5000   91.50     92.00  22258500.0\n",
            "1999-11-02    92.75   94.5000   91.94     92.56  23174500.0\n",
            "1999-11-01    93.25   94.1900   92.12     92.37  26630600.0\n",
            "\n",
            "[5325 rows x 5 columns]\n"
          ],
          "name": "stdout"
        }
      ]
    },
    {
      "cell_type": "code",
      "metadata": {
        "id": "IDqXlmXz7DIJ"
      },
      "source": [
        "i = 1\n",
        "while i==1:\n",
        "  data, meta_data = ts.get_daily(symbol='MSFT', outputsize = 'full')\n",
        "  data.to_excel(\"Microsoft.xlsx\")\n",
        "  time.sleep(60)"
      ],
      "execution_count": null,
      "outputs": []
    },
    {
      "cell_type": "markdown",
      "metadata": {
        "id": "sIa8U92eC3_p"
      },
      "source": [
        "# Apple"
      ]
    },
    {
      "cell_type": "code",
      "metadata": {
        "colab": {
          "base_uri": "https://localhost:8080/"
        },
        "id": "lAQDyVPnEPjS",
        "outputId": "86febd44-d809-467f-ae74-bc27b736b785"
      },
      "source": [
        "ts = TimeSeries(key=api_key, output_format='pandas')\n",
        "data, meta_data = ts.get_daily(symbol='AAPL', outputsize = 'full')\n",
        "print(data)"
      ],
      "execution_count": null,
      "outputs": [
        {
          "output_type": "stream",
          "text": [
            "            1. open  2. high   3. low  4. close    5. volume\n",
            "date                                                        \n",
            "2020-12-28   133.99  137.340  133.510    136.69  123124632.0\n",
            "2020-12-24   131.32  133.460  131.100    131.97   54930064.0\n",
            "2020-12-23   132.16  132.430  130.780    130.96   88223692.0\n",
            "2020-12-22   131.61  134.405  129.650    131.88  169351825.0\n",
            "2020-12-21   125.02  128.310  123.449    128.23  121251553.0\n",
            "...             ...      ...      ...       ...          ...\n",
            "1999-11-05    84.62   88.370   84.000     88.31    3721500.0\n",
            "1999-11-04    82.06   85.370   80.620     83.62    3384700.0\n",
            "1999-11-03    81.62   83.250   81.000     81.50    2932700.0\n",
            "1999-11-02    78.00   81.690   77.310     80.25    3564600.0\n",
            "1999-11-01    80.00   80.690   77.370     77.62    2487300.0\n",
            "\n",
            "[5324 rows x 5 columns]\n"
          ],
          "name": "stdout"
        }
      ]
    },
    {
      "cell_type": "code",
      "metadata": {
        "id": "fHw6tqaj7Lli"
      },
      "source": [
        "i = 1\n",
        "while i==1:\n",
        "  data, meta_data = ts.get_daily(symbol='AAPL', outputsize = 'full')\n",
        "  data.to_excel(\"Apple.xlsx\")\n",
        "  time.sleep(60)"
      ],
      "execution_count": null,
      "outputs": []
    },
    {
      "cell_type": "markdown",
      "metadata": {
        "id": "jwOY2VTDz1s8"
      },
      "source": [
        "# How to trade on simple moving averages\n",
        "\n",
        "https://www.youtube.com/watch?v=JJO9fKj3_u4\n",
        "\n",
        "SMA = (Price1 + Price2 + PriceN) / PriceN"
      ]
    },
    {
      "cell_type": "markdown",
      "metadata": {
        "id": "6WFkKL2qKP9D"
      },
      "source": [
        "# SMA Microsoft"
      ]
    },
    {
      "cell_type": "code",
      "metadata": {
        "colab": {
          "base_uri": "https://localhost:8080/"
        },
        "id": "-dLg2zwgAg0J",
        "outputId": "824ede1b-2731-443a-fb3e-aafb5ba8ab6f"
      },
      "source": [
        "pip install pandas"
      ],
      "execution_count": null,
      "outputs": [
        {
          "output_type": "stream",
          "text": [
            "Requirement already satisfied: pandas in /usr/local/lib/python3.6/dist-packages (1.1.5)\n",
            "Requirement already satisfied: numpy>=1.15.4 in /usr/local/lib/python3.6/dist-packages (from pandas) (1.19.4)\n",
            "Requirement already satisfied: python-dateutil>=2.7.3 in /usr/local/lib/python3.6/dist-packages (from pandas) (2.8.1)\n",
            "Requirement already satisfied: pytz>=2017.2 in /usr/local/lib/python3.6/dist-packages (from pandas) (2018.9)\n",
            "Requirement already satisfied: six>=1.5 in /usr/local/lib/python3.6/dist-packages (from python-dateutil>=2.7.3->pandas) (1.15.0)\n"
          ],
          "name": "stdout"
        }
      ]
    },
    {
      "cell_type": "code",
      "metadata": {
        "id": "QOF3aG6N1Eq6"
      },
      "source": [
        "import pandas as pd\n",
        "from alpha_vantage.timeseries import TimeSeries\n",
        "from alpha_vantage.techindicators import TechIndicators\n",
        "import matplotlib.pyplot as plt"
      ],
      "execution_count": null,
      "outputs": []
    },
    {
      "cell_type": "code",
      "metadata": {
        "id": "AYKMz85T2GV3"
      },
      "source": [
        "api_key = \"NMO1Y2U90QAJBJ2V\""
      ],
      "execution_count": null,
      "outputs": []
    },
    {
      "cell_type": "code",
      "metadata": {
        "id": "_yQM90kh2e4-"
      },
      "source": [
        "ts = TimeSeries(key=api_key, output_format='pandas')\n",
        "data_ts, meta_data_ts = ts.get_intraday(symbol='MSFT', interval='1min', outputsize='full')"
      ],
      "execution_count": null,
      "outputs": []
    },
    {
      "cell_type": "code",
      "metadata": {
        "id": "ZIm5050s3HtJ"
      },
      "source": [
        "period = 60"
      ],
      "execution_count": null,
      "outputs": []
    },
    {
      "cell_type": "code",
      "metadata": {
        "id": "_480zNcp5oVh"
      },
      "source": [
        "ti = TechIndicators(key=api_key, output_format='pandas')\n",
        "data_ti, meta_data_ti = ti.get_sma(symbol='MSFT', interval='1min',\n",
        "                                   time_period=period, series_type='close')"
      ],
      "execution_count": null,
      "outputs": []
    },
    {
      "cell_type": "code",
      "metadata": {
        "id": "bQUkn7AG31dC"
      },
      "source": [
        "df1 = data_ti"
      ],
      "execution_count": null,
      "outputs": []
    },
    {
      "cell_type": "code",
      "metadata": {
        "id": "BLABmNZg7CVw"
      },
      "source": [
        "df2 = data_ts['4. close'].iloc[period-1::]"
      ],
      "execution_count": null,
      "outputs": []
    },
    {
      "cell_type": "code",
      "metadata": {
        "id": "ObrptCjf4oct"
      },
      "source": [
        "df2.index = df1.index"
      ],
      "execution_count": null,
      "outputs": []
    },
    {
      "cell_type": "code",
      "metadata": {
        "id": "BFLSKtKB4v4i"
      },
      "source": [
        "total_df = pd.concat([df1, df2], axis=1)"
      ],
      "execution_count": null,
      "outputs": []
    },
    {
      "cell_type": "code",
      "metadata": {
        "colab": {
          "base_uri": "https://localhost:8080/"
        },
        "id": "Sc9fjCBA5Bmr",
        "outputId": "cd397d8e-b890-4e0c-c018-be45bfc40925"
      },
      "source": [
        "print(total_df)"
      ],
      "execution_count": null,
      "outputs": [
        {
          "output_type": "stream",
          "text": [
            "                          SMA  4. close\n",
            "date                                   \n",
            "2020-12-15 08:13:00  214.6908    224.89\n",
            "2020-12-15 08:14:00  214.6850    224.90\n",
            "2020-12-15 08:15:00  214.6815    224.80\n",
            "2020-12-15 08:16:00  214.6720    224.80\n",
            "2020-12-15 08:21:00  214.6650    224.87\n",
            "...                       ...       ...\n",
            "2020-12-28 19:51:00  224.9467    214.80\n",
            "2020-12-28 19:52:00  224.9495    215.30\n",
            "2020-12-28 19:55:00  224.9535    215.20\n",
            "2020-12-28 19:57:00  224.9582    214.90\n",
            "2020-12-28 20:00:00  224.9623    215.00\n",
            "\n",
            "[5167 rows x 2 columns]\n"
          ],
          "name": "stdout"
        }
      ]
    },
    {
      "cell_type": "code",
      "metadata": {
        "colab": {
          "base_uri": "https://localhost:8080/",
          "height": 285
        },
        "id": "7zEJC2kjBkLZ",
        "outputId": "7725d8e9-aef7-4d99-952b-4b44533447a1"
      },
      "source": [
        "total_df.plot()\n",
        "plt.show()"
      ],
      "execution_count": null,
      "outputs": [
        {
          "output_type": "display_data",
          "data": {
            "image/png": "[encoded data removed]",
            "text/plain": [
              "<Figure size 432x288 with 1 Axes>"
            ]
          },
          "metadata": {
            "tags": [],
            "needs_background": "light"
          }
        }
      ]
    },
    {
      "cell_type": "markdown",
      "metadata": {
        "id": "s-DeSkeDKLeP"
      },
      "source": [
        "# SMA Test\n",
        "\n"
      ]
    },
    {
      "cell_type": "code",
      "metadata": {
        "id": "CeVveeigKXyD"
      },
      "source": [
        "import pandas as pd\n",
        "from alpha_vantage.timeseries import TimeSeries\n",
        "from alpha_vantage.techindicators import TechIndicators\n",
        "import matplotlib.pyplot as plt"
      ],
      "execution_count": null,
      "outputs": []
    },
    {
      "cell_type": "code",
      "metadata": {
        "id": "zUbP3txyKZ4Y"
      },
      "source": [
        "api_key = \"NMO1Y2U90QAJBJ2V\"\n",
        "\n",
        "\n"
      ],
      "execution_count": null,
      "outputs": []
    },
    {
      "cell_type": "markdown",
      "metadata": {
        "id": "GOeR66n8UYGp"
      },
      "source": [
        "Ursprünglicher Code: \n",
        "\n",
        "ts = TimeSeries(key=api_key, output_format='pandas')\n",
        "\n",
        "data_ts, meta_data_ts = ts.get_intraday(symbol='MSFT', interval='1min', outputsize='full')\n",
        "\n",
        "--> Intraday wurde in Daily umgewandelt, um die tagesaktuellen Kurse anstatt der minutenaktuellen Kurse zu erhalten"
      ]
    },
    {
      "cell_type": "code",
      "metadata": {
        "id": "0WlMM9OGKbil"
      },
      "source": [
        "ts = TimeSeries(key=api_key, output_format='pandas')\n",
        "data_ts, meta_data_ts = ts.get_daily(symbol='MSFT', outputsize='full')\n",
        "\n",
        "\n"
      ],
      "execution_count": null,
      "outputs": []
    },
    {
      "cell_type": "markdown",
      "metadata": {
        "id": "kBzQuTG9UqHF"
      },
      "source": [
        "Ursprünglicher Code:\n",
        "\n",
        "period = 60"
      ]
    },
    {
      "cell_type": "code",
      "metadata": {
        "id": "V-48vJrWKed-"
      },
      "source": [
        "# period = 650"
      ],
      "execution_count": null,
      "outputs": []
    },
    {
      "cell_type": "markdown",
      "metadata": {
        "id": "bQqxV-EwUwrD"
      },
      "source": [
        "Ursprünglicher Code:\n",
        "\n",
        "ti = TechIndicators(key=api_key, output_format='pandas')\n",
        "\n",
        "data_ti, meta_data_ti = ti.get_sma(symbol='MSFT', interval='1min',\n",
        "                                   time_period=period, series_type='close')\n",
        "\n",
        "--> interval='1min' und time_period=period wurde entfernt, um nicht die minutenaktuellen Kurse anzuzeigen, sondern die tagesaktuellen"
      ]
    },
    {
      "cell_type": "code",
      "metadata": {
        "id": "blunz6lmKgVv"
      },
      "source": [
        "ti = TechIndicators(key=api_key, output_format='pandas')\n",
        "data_ti, meta_data_ti = ti.get_sma(symbol='MSFT', series_type='close')"
      ],
      "execution_count": null,
      "outputs": []
    },
    {
      "cell_type": "code",
      "metadata": {
        "id": "dQnyP7naKkqZ"
      },
      "source": [
        "df1 = data_ti\n",
        "\n",
        "\n"
      ],
      "execution_count": null,
      "outputs": []
    },
    {
      "cell_type": "markdown",
      "metadata": {
        "id": "S_3ggthiWWu0"
      },
      "source": [
        "Ab hier geht es normal mit dem Code weiter, der die Kurse anzeigt (siehe Beispiel Microsoft weiter oben). Das wurde weggelassen, weil der SMA bereits im bisherigen Code vorhanden ist.\n",
        "\n",
        "Mit der Funktion print(data_ti) wird die Liste der tagesgenauen SMA dargestellt."
      ]
    },
    {
      "cell_type": "code",
      "metadata": {
        "colab": {
          "base_uri": "https://localhost:8080/"
        },
        "id": "pNWukgqXPZck",
        "outputId": "40372934-c7b1-4423-a961-c108d05db59b"
      },
      "source": [
        "print(data_ti)"
      ],
      "execution_count": null,
      "outputs": [
        {
          "output_type": "stream",
          "text": [
            "                 SMA\n",
            "date                \n",
            "1999-11-29   28.5130\n",
            "1999-11-30   28.4920\n",
            "1999-12-01   28.5020\n",
            "1999-12-02   28.5468\n",
            "1999-12-03   28.6165\n",
            "...              ...\n",
            "2020-12-21  215.0705\n",
            "2020-12-22  215.7620\n",
            "2020-12-23  216.1200\n",
            "2020-12-24  216.5640\n",
            "2020-12-28  217.0505\n",
            "\n",
            "[5305 rows x 1 columns]\n"
          ],
          "name": "stdout"
        }
      ]
    },
    {
      "cell_type": "markdown",
      "metadata": {
        "id": "K25L1UCdXEpq"
      },
      "source": [
        "\n",
        "\n",
        "\n",
        "Mit diesem Code wird der SMA in eine Excel Liste importiert (genau wie die Aktienkurse)"
      ]
    },
    {
      "cell_type": "code",
      "metadata": {
        "id": "4Go8j4fmPe_-"
      },
      "source": [
        "i = 1\n",
        "while i==1:\n",
        "  data_ti, meta_data_ti = ti.get_sma(symbol='MSFT', series_type='close')\n",
        "  data_ti.to_excel(\"Microsoft_SMA.xlsx\")\n",
        "  time.sleep(60)"
      ],
      "execution_count": null,
      "outputs": []
    },
    {
      "cell_type": "code",
      "metadata": {
        "id": "rFvWA2t3R2ot"
      },
      "source": [
        "df1 = data_ti, meta_data_ti"
      ],
      "execution_count": null,
      "outputs": []
    },
    {
      "cell_type": "markdown",
      "metadata": {
        "id": "oL9omEcoNqs8"
      },
      "source": [
        "# Test Close vs. SMA\n",
        "\n",
        "https://github.com/neo4j-examples/paradise-papers-django"
      ]
    },
    {
      "cell_type": "code",
      "metadata": {
        "id": "7FC1xwjmGb_5"
      },
      "source": [
        "import pandas as pd\n",
        "from alpha_vantage.timeseries import TimeSeries\n",
        "from alpha_vantage.techindicators import TechIndicators\n",
        "import matplotlib.pyplot as plt"
      ],
      "execution_count": 86,
      "outputs": []
    },
    {
      "cell_type": "code",
      "metadata": {
        "id": "vJZzOr9mUIEI"
      },
      "source": [
        "api_key = \"NMO1Y2U90QAJBJ2V\""
      ],
      "execution_count": 87,
      "outputs": []
    },
    {
      "cell_type": "code",
      "metadata": {
        "id": "6JeaLx6aUOVv"
      },
      "source": [
        "ts = TimeSeries(key=api_key, output_format='pandas')\n",
        "data_ts, meta_data_ts = ts.get_daily(symbol='MSFT', outputsize='full')"
      ],
      "execution_count": 202,
      "outputs": []
    },
    {
      "cell_type": "code",
      "metadata": {
        "id": "aoi7of9QUPDd"
      },
      "source": [
        "ti = TechIndicators(key=api_key, output_format='pandas')\n",
        "data_ti, meta_data_ti = ti.get_sma(symbol='MSFT', series_type='4. close')"
      ],
      "execution_count": 203,
      "outputs": []
    },
    {
      "cell_type": "code",
      "metadata": {
        "id": "YwDJdT6hUT76"
      },
      "source": [
        "df1 = data_ti, meta_data_ti\n",
        "df2 = data_ts['4. close']"
      ],
      "execution_count": 204,
      "outputs": []
    },
    {
      "cell_type": "code",
      "metadata": {
        "colab": {
          "base_uri": "https://localhost:8080/"
        },
        "id": "2FmTdub3UXbn",
        "outputId": "739f5e57-fa19-4e16-e464-80edbba98244"
      },
      "source": [
        "print(df1)"
      ],
      "execution_count": 205,
      "outputs": [
        {
          "output_type": "stream",
          "text": [
            "(                 SMA\n",
            "date                \n",
            "1999-11-29   28.1104\n",
            "1999-11-30   28.0696\n",
            "1999-12-01   28.0525\n",
            "1999-12-02   28.0744\n",
            "1999-12-03   28.1608\n",
            "...              ...\n",
            "2020-12-22  213.4325\n",
            "2020-12-23  214.0295\n",
            "2020-12-24  214.4665\n",
            "2020-12-28  214.9155\n",
            "2020-12-29  215.5527\n",
            "\n",
            "[5306 rows x 1 columns], {'1: Symbol': 'MSFT', '2: Indicator': 'Simple Moving Average (SMA)', '3: Last Refreshed': '2020-12-29', '4: Interval': 'daily', '5: Time Period': 20, '6: Series Type': '4. close', '7: Time Zone': 'US/Eastern'})\n"
          ],
          "name": "stdout"
        }
      ]
    },
    {
      "cell_type": "code",
      "metadata": {
        "colab": {
          "base_uri": "https://localhost:8080/",
          "height": 272
        },
        "id": "Ub8kNrJLaw0i",
        "outputId": "357b6a88-187b-4729-ce52-e01bc0d5c4db"
      },
      "source": [
        "data_ti.plot()\n",
        "plt.show()"
      ],
      "execution_count": 206,
      "outputs": [
        {
          "output_type": "display_data",
          "data": {
            "image/png": "[encoded data removed]",
            "text/plain": [
              "<Figure size 432x288 with 1 Axes>"
            ]
          },
          "metadata": {
            "tags": [],
            "needs_background": "light"
          }
        }
      ]
    },
    {
      "cell_type": "code",
      "metadata": {
        "colab": {
          "base_uri": "https://localhost:8080/"
        },
        "id": "5NmcvnUScMLT",
        "outputId": "b395d00a-4f4a-4705-e1e0-d175fce9add0"
      },
      "source": [
        "print(data_ts['4. close'])"
      ],
      "execution_count": 207,
      "outputs": [
        {
          "output_type": "stream",
          "text": [
            "date\n",
            "2020-12-29    224.15\n",
            "2020-12-28    224.96\n",
            "2020-12-24    222.75\n",
            "2020-12-23    221.02\n",
            "2020-12-22    223.94\n",
            "               ...  \n",
            "1999-11-05     91.56\n",
            "1999-11-04     91.75\n",
            "1999-11-03     92.00\n",
            "1999-11-02     92.56\n",
            "1999-11-01     92.37\n",
            "Name: 4. close, Length: 5325, dtype: float64\n"
          ],
          "name": "stdout"
        }
      ]
    },
    {
      "cell_type": "code",
      "metadata": {
        "colab": {
          "base_uri": "https://localhost:8080/",
          "height": 269
        },
        "id": "2gJ1FoURbCw8",
        "outputId": "f59a0062-2433-4fad-94f0-c9c950e3001b"
      },
      "source": [
        "data_ts['4. close'].plot()\n",
        "plt.show()"
      ],
      "execution_count": 208,
      "outputs": [
        {
          "output_type": "display_data",
          "data": {
            "image/png": "[encoded data removed]",
            "text/plain": [
              "<Figure size 432x288 with 1 Axes>"
            ]
          },
          "metadata": {
            "tags": [],
            "needs_background": "light"
          }
        }
      ]
    }
  ]
}